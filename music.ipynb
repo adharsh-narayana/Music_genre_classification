{
 "cells": [
  {
   "cell_type": "code",
   "execution_count": null,
   "id": "183ff67d-4300-4226-99ce-4ad31af736a6",
   "metadata": {},
   "outputs": [],
   "source": []
  }
 ],
 "metadata": {
  "kernelspec": {
   "display_name": "",
   "name": ""
  },
  "language_info": {
   "name": ""
  }
 },
 "nbformat": 4,
 "nbformat_minor": 5
}
